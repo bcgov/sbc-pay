{
 "cells": [
  {
   "cell_type": "markdown",
   "metadata": {
    "collapsed": false
   },
   "source": [
    "# Pay Weekly Stats"
   ]
  },
  {
   "cell_type": "markdown",
   "metadata": {
    "collapsed": false
   },
   "source": [
    "We need to load in these libraries into our notebook in order to query, load, manipulate and view the data"
   ]
  },
  {
   "cell_type": "code",
   "execution_count": null,
   "metadata": {
    "collapsed": false,
    "pycharm": {
     "is_executing": false,
     "name": "#%%\n"
    }
   },
   "outputs": [],
   "source": [
    "import os\n",
    "from datetime import datetime, timedelta\n",
    "from config import Config\n",
    "\n",
    "%load_ext sql\n",
    "%config SqlMagic.displaylimit = 5\n",
    "%config SqlMagic.style = '_DEPRECATED_DEFAULT'"
   ]
  },
  {
   "cell_type": "markdown",
   "metadata": {
    "collapsed": false
   },
   "source": [
    "This will create the connection to the database and prep the jupyter magic for SQL"
   ]
  },
  {
   "cell_type": "code",
   "execution_count": null,
   "metadata": {
    "collapsed": false,
    "pycharm": {
     "is_executing": false,
     "name": "#%%\n"
    }
   },
   "outputs": [],
   "source": [
    "%sql $Config.SQLALCHEMY_DATABASE_URI"
   ]
  },
  {
   "cell_type": "markdown",
   "metadata": {
    "collapsed": false
   },
   "source": [
    "Simplest query to run to ensure our libraries are loaded and our DB connection is working"
   ]
  },
  {
   "cell_type": "code",
   "execution_count": null,
   "metadata": {
    "collapsed": false,
    "pycharm": {
     "is_executing": false,
     "name": "#%%\n"
    }
   },
   "outputs": [],
   "source": [
    "%%sql \n",
    "select now() AT TIME ZONE 'PST' as current_date"
   ]
  },
  {
   "cell_type": "markdown",
   "metadata": {
    "collapsed": false
   },
   "source": [
    "weekly total before running time."
   ]
  },
  {
   "cell_type": "code",
   "execution_count": null,
   "metadata": {
    "collapsed": false,
    "pycharm": {
     "is_executing": false,
     "name": "#%%\n"
    }
   },
   "outputs": [],
   "source": [
    "%%sql stat_accounts_completed  <<\n",
    "SELECT count(*) FILTER (WHERE payment_method = 'PAD') AS PAD\n",
    ",count(*) FILTER (WHERE payment_method = 'DRAWDOWN') AS BCOL\n",
    ",count(*) FILTER (WHERE payment_method = 'ONLINE_BANKING') AS ONLINE_BANKING\n",
    ",count(*) FILTER (WHERE payment_method = 'DIRECT_PAY') AS DIRECT_PAY\n",
    ",count(*) FILTER (WHERE payment_method = 'CC') AS CC\n",
    ",count(*) FILTER (WHERE payment_method = 'CASH') AS CASH\n",
    ",count(*) FILTER (WHERE payment_method = 'CHEQUE') AS CHEQUE\n",
    ",count(*) FILTER (WHERE payment_method = 'EJV') AS EJV\n",
    ",count(*) FILTER (WHERE payment_method = 'WIRE') AS WIRE\n",
    ",count(*) FILTER (WHERE payment_method = 'EFT') AS EFT\n",
    ",count(*) FILTER (WHERE payment_method = 'INTERNAL') AS INTERNAL\n",
    "FROM payment_accounts"
   ]
  },
  {
   "cell_type": "markdown",
   "metadata": {
    "collapsed": false
   },
   "source": [
    "Save to CSV"
   ]
  },
  {
   "cell_type": "code",
   "execution_count": null,
   "metadata": {
    "collapsed": false,
    "pycharm": {
     "is_executing": false,
     "name": "#%%\n"
    }
   },
   "outputs": [],
   "source": [
    "filename = os.path.join(os.getcwd(), r'data/')+'weekly_pay_stats_till_' + datetime.strftime(datetime.now()-timedelta(1), '%Y-%m-%d') +'.csv'\n",
    "\n",
    "with open(filename, 'w') as f:      \n",
    "    f.write('Total Number of Accounts on Each Payment Type - from payment_accounts table (overall):\\n')\n",
    "    stat_accounts_completed.DataFrame().to_csv(f, sep=',', encoding='utf-8', index=False)"
   ]
  },
  {
   "cell_type": "code",
   "execution_count": null,
   "metadata": {},
   "outputs": [],
   "source": [
    "%%sql stat_weekly_transactions_on_each_payment_completed  <<\n",
    "SELECT count(*) FILTER (WHERE payment_method_code = 'PAD') AS PAD\n",
    ",count(*) FILTER (WHERE payment_method_code = 'DRAWDOWN') AS BCOL\n",
    ",count(*) FILTER (WHERE payment_method_code = 'ONLINE_BANKING') AS ONLINE_BANKING\n",
    ",count(*) FILTER (WHERE payment_method_code = 'DIRECT_PAY') AS DIRECT_PAY\n",
    ",count(*) FILTER (WHERE payment_method_code = 'CC') AS CC\n",
    ",count(*) FILTER (WHERE payment_method_code = 'CASH') AS CASH\n",
    ",count(*) FILTER (WHERE payment_method_code = 'CHEQUE') AS CHEQUE\n",
    ",count(*) FILTER (WHERE payment_method_code = 'EJV') AS EJV\n",
    ",count(*) FILTER (WHERE payment_method_code = 'WIRE') AS WIRE\n",
    ",count(*) FILTER (WHERE payment_method_code = 'EFT') AS EFT\n",
    ",count(*) FILTER (WHERE payment_method_code = 'INTERNAL') AS INTERNAL\n",
    "FROM invoices\n",
    "WHERE\n",
    "invoice_status_code IN ('PAID', 'APPROVED')\n",
    "AND date(created_on)  > date(current_date - 1 - interval '1 weeks')\n",
    "AND date(created_on)  <= date(current_date - 1);"
   ]
  },
  {
   "cell_type": "code",
   "execution_count": null,
   "metadata": {},
   "outputs": [],
   "source": [
    "with open(filename, 'a') as f:      \n",
    "    f.write('\\n\\n Weekly Number of Transactions on Each Payment Type - from invoices table:\\n')\n",
    "    stat_weekly_transactions_on_each_payment_completed.DataFrame().to_csv(f, sep=',', encoding='utf-8', index=False)"
   ]
  },
  {
   "cell_type": "code",
   "execution_count": null,
   "metadata": {
    "collapsed": false,
    "pycharm": {
     "is_executing": false,
     "name": "#%%\n"
    }
   },
   "outputs": [],
   "source": [
    "%%sql stat_nro_weekly_completed  <<\n",
    "SELECT count(*)\n",
    "FROM invoices i\n",
    "WHERE\n",
    "i.corp_type_code = 'NRO'\n",
    "AND i.payment_method_code IN ('PAD','DRAWDOWN','ONLINE_BANKING','DIRECT_PAY','CC','CASH','CHEQUE','EJV','WIRE','EFT','INTERNAL')\n",
    "AND i.invoice_status_code IN ('PAID', 'APPROVED')\n",
    "AND date(i.created_on at time zone 'utc' at time zone 'pst')  > date(current_date - 1 - interval '1 weeks')\n",
    "AND date(i.created_on at time zone 'utc' at time zone 'pst')  <= date(current_date - 1);"
   ]
  },
  {
   "cell_type": "code",
   "execution_count": null,
   "metadata": {},
   "outputs": [],
   "source": [
    "with open(filename, 'a') as f:      \n",
    "    f.write('\\n\\n Weekly Number of NR Submitted in Premium Account - from invoices table:\\n')\n",
    "    stat_nro_weekly_completed.DataFrame().to_csv(f, sep=',', encoding='utf-8', index=False)"
   ]
  },
  {
   "cell_type": "code",
   "execution_count": null,
   "metadata": {},
   "outputs": [],
   "source": [
    "%%sql stat_nro_total_completed  <<\n",
    "SELECT count(*)\n",
    "FROM invoices i\n",
    "WHERE\n",
    "i.corp_type_code = 'NRO'\n",
    "AND i.payment_method_code IN ('PAD','DRAWDOWN','ONLINE_BANKING','DIRECT_PAY','CC','CASH','CHEQUE','EJV','WIRE','EFT','INTERNAL')\n",
    "AND i.invoice_status_code IN ('PAID', 'APPROVED');"
   ]
  },
  {
   "cell_type": "code",
   "execution_count": null,
   "metadata": {},
   "outputs": [],
   "source": [
    "with open(filename, 'a') as f:      \n",
    "    f.write('\\n\\n Total Number of NR Submitted in Premium Account - from invoices table:\\n')\n",
    "    stat_nro_total_completed.DataFrame().to_csv(f, sep=',', encoding='utf-8', index=False)"
   ]
  },
  {
   "cell_type": "code",
   "execution_count": null,
   "metadata": {},
   "outputs": [],
   "source": []
  }
 ],
 "metadata": {
  "celltoolbar": "Tags",
  "kernelspec": {
   "display_name": "Python 3.10.4 64-bit",
   "language": "python",
   "name": "python3"
  },
  "language_info": {
   "codemirror_mode": {
    "name": "ipython",
    "version": 3
   },
   "file_extension": ".py",
   "mimetype": "text/x-python",
   "name": "python",
   "nbconvert_exporter": "python",
   "pygments_lexer": "ipython3",
   "version": "3.10.4"
  },
  "pycharm": {
   "stem_cell": {
    "cell_type": "raw",
    "metadata": {
     "collapsed": false
    },
    "source": []
   }
  },
  "vscode": {
   "interpreter": {
    "hash": "fcb35bce15c55b4cacb5112e543368f86c7f98ed17acd45e6841ee83ed1df6e3"
   }
  }
 },
 "nbformat": 4,
 "nbformat_minor": 2
}
