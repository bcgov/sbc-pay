{
 "cells": [
  {
   "cell_type": "markdown",
   "metadata": {
    "collapsed": false,
    "editable": true,
    "jupyter": {
     "outputs_hidden": false
    },
    "slideshow": {
     "slide_type": ""
    },
    "tags": []
   },
   "source": [
    "# Reconciliation Stats"
   ]
  },
  {
   "cell_type": "markdown",
   "metadata": {
    "collapsed": false,
    "jupyter": {
     "outputs_hidden": false
    }
   },
   "source": [
    "We need to load in these libraries into our notebook in order to query, load, manipulate and view the data"
   ]
  },
  {
   "cell_type": "code",
   "execution_count": null,
   "metadata": {
    "collapsed": false,
    "editable": true,
    "jupyter": {
     "outputs_hidden": false
    },
    "pycharm": {
     "is_executing": false,
     "name": "#%%\n"
    },
    "slideshow": {
     "slide_type": ""
    },
    "tags": []
   },
   "outputs": [],
   "source": [
    "import base64\n",
    "from config import Config\n",
    "from util.helpers import (\n",
    "    convert_utc_date_to_inclusion_dates, get_auth_token\n",
    ")\n",
    "\n",
    "import os\n",
    "\n",
    "from datetime import datetime, timezone\n",
    "import requests\n",
    "from IPython import get_ipython\n",
    "from IPython.display import display, Markdown\n",
    "\n",
    "%load_ext sql\n",
    "%config SqlMagic.displaylimit = 5\n",
    "%config SqlMagic.style = '_DEPRECATED_DEFAULT'\n",
    "# This will create the connection to the database and prep the jupyter magic for SQL\n",
    "%sql $Config.SQLALCHEMY_DATABASE_URI"
   ]
  },
  {
   "cell_type": "markdown",
   "metadata": {
    "editable": true,
    "slideshow": {
     "slide_type": ""
    },
    "tags": [
     "parameters"
    ]
   },
   "source": [
    "# Parameters cell for external parameters via papermill (job running this notebook will insert a parameter cell below this). This cell has a tag of with the name \"parameters\" that is used by papermill\n"
   ]
  },
  {
   "cell_type": "markdown",
   "metadata": {
    "collapsed": false,
    "jupyter": {
     "outputs_hidden": false
    }
   },
   "source": [
    "Simplest query to run to ensure our libraries are loaded and our DB connection is working"
   ]
  },
  {
   "cell_type": "code",
   "execution_count": null,
   "metadata": {
    "collapsed": false,
    "jupyter": {
     "outputs_hidden": false
    },
    "pycharm": {
     "is_executing": false,
     "name": "#%%\n"
    }
   },
   "outputs": [],
   "source": [
    "import sys\n",
    "%sql set time zone 'UTC';\n",
    "db_connection_test = get_ipython().run_line_magic(\"sql\", \"SELECT 1\")\n",
    "if not db_connection_test:\n",
    "    sys.exit('Database connection error')"
   ]
  },
  {
   "cell_type": "code",
   "execution_count": null,
   "metadata": {},
   "outputs": [],
   "source": [
    "print(f\"Using from_date: {from_date} and to_date: {to_date} UTC\")\n",
    "\n",
    "def save_to_csv(target, report_type):\n",
    "    date_string, _ = convert_utc_date_to_inclusion_dates(from_date, to_date)\n",
    "    if report_type == \"summary\":\n",
    "        filename_summary = (\n",
    "        os.path.join(os.getcwd(), r\"data/\")\n",
    "            + partner_code\n",
    "            + \"_reconciliation_summary_\"\n",
    "            + date_string.replace(' to ', '_')\n",
    "            + \".csv\"\n",
    "        )\n",
    "        with open(filename_summary, \"w\") as f:\n",
    "            f.write(f\"Reconciliation Summary: {date_string} - Note: this includes more payment statuses than just PAID. This is based off of payment_date and refund_date.\\n\\n\")\n",
    "            if target is None or target.empty:\n",
    "                f.write(\"No Data Retrieved\")\n",
    "            else:\n",
    "                target.to_csv(f, sep=\",\", encoding=\"utf-8\", index=False)\n",
    "    elif report_type == \"disbursement\":\n",
    "        if partner_code in partners_for_disbursement_summary:\n",
    "            filename_disbursed = os.path.join(\n",
    "                os.getcwd(),\n",
    "                \"data\",\n",
    "                f\"{partner_code}_reconciliation_disbursed_\"\n",
    "                + date_string.replace(' to ', '_')\n",
    "                + \".csv\",\n",
    "            )\n",
    "            print(f\"Saving CSV for partner_code: {partner_code} at {filename_disbursed}\")\n",
    "            with open(filename_disbursed, \"w\") as f:\n",
    "                f.write(f\"Reconciliation Disbursed: {date_string} - Note: this includes disbursement reversals as well. This is based off of the disbursement_date and disbursement_reversal_date.\\n\\n\")\n",
    "                if target is None or target.empty:\n",
    "                    f.write(\"No Data Retrieved\")\n",
    "                else:\n",
    "                    target.to_csv(f, sep=\",\", encoding=\"utf-8\", index=False)"
   ]
  },
  {
   "cell_type": "markdown",
   "metadata": {},
   "source": [
    "Summary Query"
   ]
  },
  {
   "cell_type": "code",
   "execution_count": null,
   "metadata": {
    "editable": true,
    "slideshow": {
     "slide_type": ""
    },
    "tags": []
   },
   "outputs": [],
   "source": [
    "%%sql reconciliation_summary  <<\n",
    "SELECT\n",
    "    i.id as transaction_id,\n",
    "    (created_on AT TIME ZONE 'UTC' AT TIME ZONE 'America/Vancouver')::date AS created_date_pacific,\n",
    "    created_name,\n",
    "    pa.auth_account_id as account_number,\n",
    "    pa.name as account_name,\n",
    "    total,\n",
    "    service_fees,\n",
    "    total - service_fees as subtotal,\n",
    "    payment_method_code,\n",
    "    corp_type_code,\n",
    "    payment_date,\n",
    "    refund_date,\n",
    "    invoice_status_code,\n",
    "    folio_number,\n",
    "    (select string_agg(quantity || 'x - ' || filing_type_code || ' - ' || description || ' - $' || pli.total, ',') from payment_line_items pli JOIN fee_schedules fs on fs.fee_schedule_id = pli.fee_schedule_id where invoice_id = i.id) as payment_line_items\n",
    "FROM\n",
    "    invoices i\n",
    "LEFT JOIN\n",
    "    payment_accounts pa ON i.payment_account_id = pa.id\n",
    "WHERE\n",
    "    corp_type_code = :partner_code\n",
    "    AND total > 0\n",
    "    AND invoice_status_code in ('PAID', 'CREDITED', 'REFUNDED', 'REFUND_REQUESTED')\n",
    "    AND payment_method_code in ('PAD', 'EJV', 'EFT', 'DIRECT_PAY', 'ONLINE_BANKING') \n",
    "    AND ((payment_date >= :from_date and payment_date <= :to_date)\n",
    "         OR (refund_date >= :from_date and refund_date <= :to_date))\n",
    "ORDER BY\n",
    "    1;"
   ]
  },
  {
   "cell_type": "markdown",
   "metadata": {},
   "source": [
    "Disbursement"
   ]
  },
  {
   "cell_type": "code",
   "execution_count": null,
   "metadata": {
    "editable": true,
    "slideshow": {
     "slide_type": ""
    },
    "tags": []
   },
   "outputs": [],
   "source": [
    "save_to_csv(reconciliation_summary.DataFrame(), \"summary\")\n",
    "# Define the partner codes for which the disbursement summary should be executed\n",
    "partners_for_disbursement_summary = Config.PARTNER_CODES_DISBURSEMENT.split(\",\")\n",
    "\n",
    "print(f\"Processing for partner_code: {partner_code}\")\n",
    "print(f\"Partners for disbursement summary: {partners_for_disbursement_summary}\")\n",
    "\n",
    "# Only date part, no time saved for this field, also I believe this is pacific, it comes straight\n",
    "# from the feedback files.\n",
    "from_date_disbursement = datetime.strptime(from_date.split(' ')[0], \"%Y-%m-%d\").date()\n",
    "to_date_disbursement = datetime.strptime(to_date.split(' ')[0], \"%Y-%m-%d\").date()\n",
    "print(f'Using from_date_disbursement: {from_date_disbursement} and to_date_disbursement: {to_date}')\n",
    "if partner_code in partners_for_disbursement_summary:\n",
    "    print(f\"Partner code {partner_code} found in the list, executing SQL query.\")\n",
    "    query = f\"\"\"\n",
    "    SELECT \n",
    "        i.id as transaction_id,\n",
    "        (created_on AT TIME ZONE 'UTC' AT TIME ZONE 'America/Vancouver')::date AS created_date_pacific,\n",
    "        created_name,\n",
    "        pa.auth_account_id as account_number,\n",
    "        pa.name as account_name,\n",
    "        total,\n",
    "        service_fees,\n",
    "        total - service_fees as disbursed_amount,\n",
    "        payment_method_code,\n",
    "        corp_type_code,\n",
    "        payment_date,\n",
    "        refund_date,\n",
    "        invoice_status_code,\n",
    "        folio_number,\n",
    "        disbursement_date::date as disbursement_date_pacific,\n",
    "        disbursement_reversal_date::date disbursement_reversal_date_pacific,\n",
    "        disbursement_status_code,\n",
    "        (select string_agg(quantity || 'x - ' || filing_type_code || ' - ' || description || ' - $' || pli.total , ',') from payment_line_items pli join fee_schedules fs on fs.fee_schedule_id = pli.fee_schedule_id where invoice_id = i.id) as payment_line_items\n",
    "    FROM \n",
    "        invoices i\n",
    "    LEFT JOIN\n",
    "        payment_accounts pa ON i.payment_account_id = pa.id\n",
    "    WHERE corp_type_code = :partner_code\n",
    "    AND invoice_status_code in ('PAID', 'CREDITED', 'REFUNDED')\n",
    "    AND payment_method_code in ('PAD','EJV', 'EFT', 'DIRECT_PAY', 'ONLINE_BANKING')\n",
    "    AND ((disbursement_date >= :from_date_disbursement AND disbursement_date <= :to_date_disbursement)\n",
    "        OR (disbursement_reversal_date >= :from_date_disbursement AND disbursement_reversal_date <= :to_date_disbursement))\n",
    "    order by 1;\n",
    "    \"\"\"\n",
    "\n",
    "    display(Markdown(f\"## Running query for partner: {partner_code}\"))\n",
    "    results = get_ipython().run_cell_magic('sql', '', query)\n",
    "    reconciliation_disbursed = results.DataFrame()  # Convert the results to a DataFrame for later use\n",
    "else:\n",
    "    print(f\"Partner code {partner_code} not in the list, skipping SQL query.\")\n",
    "    reconciliation_disbursed = None\n",
    "save_to_csv(reconciliation_disbursed, \"disbursement\")"
   ]
  },
  {
   "cell_type": "code",
   "execution_count": null,
   "metadata": {},
   "outputs": [],
   "source": [
    "\n",
    "partner_details = {\n",
    "    \"CSO\": {\n",
    "        \"companyName\": \"Ministry of Justice\",\n",
    "        \"addressLine1\": \"PO Box 9249, Stn Prov Govt\",\n",
    "        \"addressLine2\": \"6th Floor, 850 Burdett Avenue\",\n",
    "        \"city\": \"VICTORIA\",\n",
    "        \"province\": \"BC\",\n",
    "        \"areaCode\": \"V8W 9J2\"\n",
    "    },\n",
    "    \"VS\": {\n",
    "        \"companyName\": \"Vital Statistics Agency\",\n",
    "        \"addressLine1\": \"PO Box 9657, Stn Prov Govt\",\n",
    "        \"addressLine2\": \"\",\n",
    "        \"city\": \"VICTORIA\",\n",
    "        \"province\": \"BC\",\n",
    "        \"areaCode\": \"V8W 9P3\"\n",
    "    },\n",
    "    \"RPT\": {\n",
    "        \"companyName\": \"Property Taxation Branch\",\n",
    "        \"addressLine1\": \"Ministry of Provincial Revenue\",\n",
    "        \"addressLine2\": \"4th Floor, 1802 Douglas Street\",\n",
    "        \"city\": \"VICTORIA\",\n",
    "        \"province\": \"BC\",\n",
    "        \"areaCode\": \"V8T 4K6\"\n",
    "    },\n",
    "    \"ESRA\": {\n",
    "        \"companyName\": \"Site Remediation Program, Authorizations and Remediation Branch\",\n",
    "        \"addressLine1\": \"Ministry of Environment and Parks\",\n",
    "        \"addressLine2\": \"525 Superior Street, 3rd floor\",\n",
    "        \"city\": \"VICTORIA\",\n",
    "        \"province\": \"BC\",\n",
    "        \"areaCode\": \"V8V 0C5\"\n",
    "    },\n",
    "    \"STRR\": {\n",
    "        \"companyName\": \"Ministry of Housing and Municipal Affairs\",\n",
    "        \"addressLine1\": \"PO BOX 9844, STN PROV GOVT\",\n",
    "        \"addressLine2\": \"4th Floor, 614 Humboldt Street\",\n",
    "        \"city\": \"VICTORIA\",\n",
    "        \"province\": \"BC\",\n",
    "        \"areaCode\": \"V8W 1A4\"\n",
    "    }\n",
    "}\n",
    "\n",
    "def generate_report(partner_code):\n",
    "    if not Config.REPORT_API_URL:\n",
    "        raise ValueError(\"The REPORT_API_URL environment variable is not set or is empty\")\n",
    "\n",
    "    url = Config.REPORT_API_URL + '/reports'\n",
    "    headers = {\n",
    "        'Authorization': f'Bearer {get_auth_token()}',\n",
    "        'Content-Type': 'application/json',\n",
    "        'Accept': 'application/pdf'\n",
    "    }\n",
    "\n",
    "    table_rows = [\n",
    "        {\n",
    "            'registry': partner_code,\n",
    "            'transactionCounts': 0,\n",
    "            'totalPayment': 0,\n",
    "            'totalDisbursement': 0\n",
    "        }\n",
    "    ]\n",
    "    if reconciliation_summary:\n",
    "        csv_paid_only = reconciliation_summary.DataFrame() \\\n",
    "            .query(\"invoice_status_code == 'PAID' and (payment_date >= @from_date and payment_date <= @to_date)\").get('total', 0)\n",
    "        csv_paid_total = csv_paid_only.sum()\n",
    "        csv_count_total = csv_paid_only.count()\n",
    "        disbursed_amount = 0\n",
    "        if reconciliation_disbursed is not None and reconciliation_disbursed.empty is False:\n",
    "            disbursed_amount = reconciliation_disbursed.query(\"disbursement_status_code == 'COMPLETED' and (disbursement_date_pacific >= @from_date_disbursement and disbursement_date_pacific <= @to_date_disbursement)\").get('disbursed_amount', 0).sum()\n",
    "        format_currency = lambda x: f\"$ {x:,.2f}\"\n",
    "        format_number = lambda x: f\"{x:,.0f}\"\n",
    "        table_rows = [{\n",
    "            'registry': partner_code,\n",
    "            'totalPayment': format_currency(csv_paid_total),\n",
    "            'transactionCounts': format_number(csv_count_total),\n",
    "            'totalDisbursement': format_currency(disbursed_amount)\n",
    "        }]\n",
    "\n",
    "    current_date = datetime.now(tz=timezone.utc).strftime(\"%B %d, %Y\")\n",
    "\n",
    "    details = partner_details.get(partner_code, {})\n",
    "    if not details:\n",
    "        raise ValueError(f\"No details found for partner code: {partner_code}\")\n",
    "\n",
    "    # Define the request body\n",
    "    date_range, _ = convert_utc_date_to_inclusion_dates(from_date, to_date, 'full')\n",
    "    data = {\n",
    "        \"templateVars\": {\n",
    "            \"date\": current_date,\n",
    "            \"companyName\": details[\"companyName\"],\n",
    "            \"addressLine1\": details[\"addressLine1\"],\n",
    "            \"addressLine2\": details[\"addressLine2\"],\n",
    "            \"city\": details[\"city\"],\n",
    "            \"province\": details[\"province\"],\n",
    "            \"areaCode\": details[\"areaCode\"],\n",
    "            \"firstName\": partner_code,\n",
    "            \"dateRange\": date_range,\n",
    "            \"tableRows\": table_rows\n",
    "        },\n",
    "        \"templateName\": \"revenue_letter\",\n",
    "        \"reportName\": \"revenue_letter\"\n",
    "    }\n",
    "\n",
    "    response = requests.post(url, headers=headers, json=data)\n",
    "\n",
    "    if response.status_code == 200:\n",
    "        pdf_content = response.content\n",
    "        date_string, _ = convert_utc_date_to_inclusion_dates(from_date, to_date)\n",
    "        date_string = date_string.replace(' to ', '_')\n",
    "        pdf_filename = os.path.join(os.getcwd(), 'data', f'{partner_code}_revenue_letter_{date_string}.pdf')\n",
    "        with open(pdf_filename, 'wb') as pdf_file:\n",
    "            pdf_file.write(pdf_content)\n",
    "\n",
    "        print(\"PDF report saved successfully as 'payment_receipt.pdf'\")\n",
    "    else:\n",
    "        print('Failed to get the report:', response.text)\n",
    "generate_report(partner_code)"
   ]
  }
 ],
 "metadata": {
  "celltoolbar": "Tags",
  "kernelspec": {
   "display_name": "notebook-report-cQwRR_n3-py3.12",
   "language": "python",
   "name": "python3"
  },
  "language_info": {
   "codemirror_mode": {
    "name": "ipython",
    "version": 3
   },
   "file_extension": ".py",
   "mimetype": "text/x-python",
   "name": "python",
   "nbconvert_exporter": "python",
   "pygments_lexer": "ipython3",
   "version": "3.12.2"
  },
  "pycharm": {
   "stem_cell": {
    "cell_type": "raw",
    "metadata": {
     "collapsed": false
    },
    "source": []
   }
  }
 },
 "nbformat": 4,
 "nbformat_minor": 4
}
