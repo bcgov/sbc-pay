{
 "cells": [
  {
   "cell_type": "markdown",
   "metadata": {
    "collapsed": false,
    "editable": true,
    "jupyter": {
     "outputs_hidden": false
    },
    "slideshow": {
     "slide_type": ""
    },
    "tags": []
   },
   "source": [
    "# Reconciliation Monthly Stats"
   ]
  },
  {
   "cell_type": "markdown",
   "metadata": {
    "collapsed": false,
    "jupyter": {
     "outputs_hidden": false
    }
   },
   "source": [
    "We need to load in these libraries into our notebook in order to query, load, manipulate and view the data"
   ]
  },
  {
   "cell_type": "code",
   "execution_count": null,
   "metadata": {
    "collapsed": false,
    "editable": true,
    "jupyter": {
     "outputs_hidden": false
    },
    "pycharm": {
     "is_executing": false,
     "name": "#%%\n"
    },
    "slideshow": {
     "slide_type": ""
    },
    "tags": []
   },
   "outputs": [],
   "source": [
    "import os\n",
    "from datetime import datetime, timedelta\n",
    "from config import Config\n",
    "\n",
    "%load_ext sql\n",
    "%config SqlMagic.displaylimit = 5"
   ]
  },
  {
   "cell_type": "markdown",
   "metadata": {
    "editable": true,
    "slideshow": {
     "slide_type": ""
    },
    "tags": [
     "parameters"
    ]
   },
   "source": [
    "# Parameters cell for external parameters via papermill (job running this notebook will insert a parameter cell below this). This cell has a tag of with the name \"parameters\" that is used by papermill\n",
    "\n",
    "e.g.\n",
    "param1 = \"some_value\""
   ]
  },
  {
   "cell_type": "markdown",
   "metadata": {
    "collapsed": false,
    "jupyter": {
     "outputs_hidden": false
    }
   },
   "source": [
    "This will create the connection to the database and prep the jupyter magic for SQL"
   ]
  },
  {
   "cell_type": "code",
   "execution_count": null,
   "metadata": {
    "collapsed": false,
    "editable": true,
    "jupyter": {
     "outputs_hidden": false
    },
    "pycharm": {
     "is_executing": false,
     "name": "#%%\n"
    },
    "slideshow": {
     "slide_type": ""
    },
    "tags": []
   },
   "outputs": [],
   "source": [
    "%sql $Config.SQLALCHEMY_DATABASE_URI"
   ]
  },
  {
   "cell_type": "markdown",
   "metadata": {
    "collapsed": false,
    "jupyter": {
     "outputs_hidden": false
    }
   },
   "source": [
    "Simplest query to run to ensure our libraries are loaded and our DB connection is working"
   ]
  },
  {
   "cell_type": "code",
   "execution_count": null,
   "metadata": {
    "collapsed": false,
    "jupyter": {
     "outputs_hidden": false
    },
    "pycharm": {
     "is_executing": false,
     "name": "#%%\n"
    }
   },
   "outputs": [],
   "source": [
    "%%sql\n",
    "select now() AT TIME ZONE 'PST' as current_date"
   ]
  },
  {
   "cell_type": "markdown",
   "metadata": {},
   "source": [
    "Query ..."
   ]
  },
  {
   "cell_type": "code",
   "execution_count": null,
   "metadata": {
    "editable": true,
    "slideshow": {
     "slide_type": ""
    },
    "tags": []
   },
   "outputs": [],
   "source": [
    "%%sql monthly_reconciliation_summary  <<\n",
    "SELECT count(*)                   AS transaction_count,\n",
    "sum(pli.total)                    AS subtotal,\n",
    "sum(pli.service_fees)             AS service_fees,\n",
    "sum(pli.total + pli.service_fees) AS total,\n",
    "(i.payment_date)::date,\n",
    "pli.description,\n",
    "i.payment_method_code,\n",
    "i.corp_type_code\n",
    "FROM invoices i\n",
    "JOIN payment_line_items pli ON i.id = pli.invoice_id\n",
    "WHERE i.corp_type_code = :partner_code\n",
    "AND i.invoice_status_code = 'PAID'\n",
    "AND i.payment_method_code IN ('PAD', 'EJV', 'DIRECT_PAY', 'DRAWDOWN')\n",
    "AND date(i.payment_date) > date(current_date - 1 - interval '1 months')\n",
    "AND date(i.payment_date) <= date(current_date - 1)\n",
    "GROUP BY (i.payment_date)::date, i.payment_method_code, i.corp_type_code, pli.description\n",
    "ORDER BY (i.payment_date)::date, pli.description, i.payment_method_code;"
   ]
  },
  {
   "cell_type": "markdown",
   "metadata": {},
   "source": [
    "Save to CSV"
   ]
  },
  {
   "cell_type": "code",
   "execution_count": null,
   "metadata": {
    "editable": true,
    "slideshow": {
     "slide_type": ""
    },
    "tags": []
   },
   "outputs": [],
   "source": [
    "filename_summary = os.path.join(os.getcwd(), r'data/')+partner_code+'_monthly_reconciliation_summary_' + datetime.strftime(datetime.now()-timedelta(1), '%Y-%m') +'.csv'\n",
    "df_summary = monthly_reconciliation_summary.DataFrame()\n",
    "with open(filename_summary, 'w') as f:\n",
    "    f.write('Monthly Reconciliation Summary:\\n\\n')\n",
    "    if df_summary.empty:\n",
    "        f.write('No Data Retrieved')\n",
    "    else:\n",
    "        df_summary.to_csv(f, sep=',', encoding='utf-8', index=False)"
   ]
  },
  {
   "cell_type": "code",
   "execution_count": null,
   "metadata": {
    "editable": true,
    "slideshow": {
     "slide_type": ""
    },
    "tags": []
   },
   "outputs": [],
   "source": [
    "%%sql monthly_reconciliation_disbursed  <<\n",
    "SELECT count(*)                   AS transaction_count,\n",
    "sum(pli.total)                    AS sub_total,\n",
    "sum(pli.service_fees)             AS service_fees,\n",
    "sum(pli.total + pli.service_fees) AS total,\n",
    "(i.disbursement_date)::date,\n",
    "pli.description,\n",
    "i.payment_method_code,\n",
    "i.corp_type_code\n",
    "FROM invoices i\n",
    "JOIN payment_line_items pli ON i.id = pli.invoice_id\n",
    "WHERE i.corp_type_code = 'VS'\n",
    "AND i.invoice_status_code = 'PAID'\n",
    "AND i.payment_method_code IN ('PAD', 'EJV', 'DIRECT_PAY')\n",
    "AND i.disbursement_status_code = 'COMPLETED'\n",
    "AND date(disbursement_date) > date(current_date - 1 - interval '1 months')\n",
    "AND date(disbursement_date) <= date(current_date - 1)\n",
    "GROUP BY (disbursement_date)::date, payment_method_code, corp_type_code, pli.description\n",
    "ORDER BY (disbursement_date)::date, pli.description, i.payment_method_code;"
   ]
  },
  {
   "cell_type": "markdown",
   "metadata": {},
   "source": [
    "Save to another CSV"
   ]
  },
  {
   "cell_type": "code",
   "execution_count": null,
   "metadata": {
    "editable": true,
    "slideshow": {
     "slide_type": ""
    },
    "tags": []
   },
   "outputs": [],
   "source": [
    "filename_disbursed = os.path.join(os.getcwd(), r'data/')+partner_code+'_monthly_reconciliation_disbursed_' + datetime.strftime(datetime.now()-timedelta(1), '%Y-%m') +'.csv'\n",
    "df_disbursed = monthly_reconciliation_disbursed.DataFrame()\n",
    "with open(filename_disbursed, 'a') as f:\n",
    "    f.write('Monthly Reconciliation Disbursed:\\n\\n')\n",
    "    if df_disbursed.empty:\n",
    "        f.write('No Data Retrieved')\n",
    "    else:\n",
    "        df_disbursed.to_csv(f, sep=',', encoding='utf-8', index=False)\n"
   ]
  }
 ],
 "metadata": {
  "celltoolbar": "Tags",
  "kernelspec": {
   "display_name": "Python 3 (ipykernel)",
   "language": "python",
   "name": "python3"
  },
  "language_info": {
   "codemirror_mode": {
    "name": "ipython",
    "version": 3
   },
   "file_extension": ".py",
   "mimetype": "text/x-python",
   "name": "python",
   "nbconvert_exporter": "python",
   "pygments_lexer": "ipython3",
   "version": "3.11.4"
  },
  "pycharm": {
   "stem_cell": {
    "cell_type": "raw",
    "metadata": {
     "collapsed": false
    },
    "source": []
   }
  },
  "vscode": {
   "interpreter": {
    "hash": "fcb35bce15c55b4cacb5112e543368f86c7f98ed17acd45e6841ee83ed1df6e3"
   }
  }
 },
 "nbformat": 4,
 "nbformat_minor": 4
}
