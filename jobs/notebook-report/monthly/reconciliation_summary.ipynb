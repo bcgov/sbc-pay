{
 "cells": [
  {
   "cell_type": "code",
   "execution_count": null,
   "metadata": {},
   "outputs": [],
   "source": []
  },
  {
   "cell_type": "markdown",
   "metadata": {
    "collapsed": false,
    "editable": true,
    "jupyter": {
     "outputs_hidden": false
    },
    "slideshow": {
     "slide_type": ""
    },
    "tags": []
   },
   "source": [
    "# Reconciliation Monthly Stats"
   ]
  },
  {
   "cell_type": "markdown",
   "metadata": {
    "collapsed": false,
    "jupyter": {
     "outputs_hidden": false
    }
   },
   "source": [
    "We need to load in these libraries into our notebook in order to query, load, manipulate and view the data"
   ]
  },
  {
   "cell_type": "code",
   "execution_count": null,
   "metadata": {
    "collapsed": false,
    "editable": true,
    "jupyter": {
     "outputs_hidden": false
    },
    "pycharm": {
     "is_executing": false,
     "name": "#%%\n"
    },
    "slideshow": {
     "slide_type": ""
    },
    "tags": []
   },
   "outputs": [],
   "source": [
    "import base64\n",
    "from config import Config\n",
    "\n",
    "import os\n",
    "\n",
    "import requests\n",
    "from IPython import get_ipython\n",
    "from IPython.display import display, Markdown\n",
    "\n",
    "%load_ext sql\n",
    "%config SqlMagic.displaylimit = 5\n",
    "%config SqlMagic.style = '_DEPRECATED_DEFAULT'"
   ]
  },
  {
   "cell_type": "markdown",
   "metadata": {
    "editable": true,
    "slideshow": {
     "slide_type": ""
    },
    "tags": [
     "parameters"
    ]
   },
   "source": [
    "# Parameters cell for external parameters via papermill (job running this notebook will insert a parameter cell below this). This cell has a tag of with the name \"parameters\" that is used by papermill\n",
    "\n",
    "e.g.\n",
    "param1 = \"some_value\""
   ]
  },
  {
   "cell_type": "markdown",
   "metadata": {
    "collapsed": false,
    "jupyter": {
     "outputs_hidden": false
    }
   },
   "source": [
    "This will create the connection to the database and prep the jupyter magic for SQL"
   ]
  },
  {
   "cell_type": "code",
   "execution_count": null,
   "metadata": {
    "collapsed": false,
    "editable": true,
    "jupyter": {
     "outputs_hidden": false
    },
    "pycharm": {
     "is_executing": false,
     "name": "#%%\n"
    },
    "slideshow": {
     "slide_type": ""
    },
    "tags": []
   },
   "outputs": [],
   "source": [
    "%sql $Config.SQLALCHEMY_DATABASE_URI"
   ]
  },
  {
   "cell_type": "markdown",
   "metadata": {
    "collapsed": false,
    "jupyter": {
     "outputs_hidden": false
    }
   },
   "source": [
    "Simplest query to run to ensure our libraries are loaded and our DB connection is working"
   ]
  },
  {
   "cell_type": "code",
   "execution_count": null,
   "metadata": {
    "collapsed": false,
    "jupyter": {
     "outputs_hidden": false
    },
    "pycharm": {
     "is_executing": false,
     "name": "#%%\n"
    }
   },
   "outputs": [],
   "source": [
    "%%sql\n",
    "set time zone 'UTC';"
   ]
  },
  {
   "cell_type": "code",
   "execution_count": null,
   "metadata": {},
   "outputs": [],
   "source": [
    "from datetime import datetime, timezone, timedelta\n",
    "from dateutil.relativedelta import relativedelta\n",
    "import pytz\n",
    "\n",
    "\n",
    "def get_utc_timezone_adjusted_date(target_date) -> str:\n",
    "    target_datetime = datetime.combine(target_date, datetime.min.time())\n",
    "    hours = target_datetime.astimezone(pytz.timezone(\"America/Vancouver\")).utcoffset().total_seconds() / 60 / 60\n",
    "    target_date = target_datetime.replace(tzinfo=timezone.utc) + relativedelta(hours=-hours)\n",
    "    return target_date.replace(tzinfo=None).strftime(\"%Y-%m-%d %H:%M:%S\")\n",
    "\n",
    "\n",
    "def get_first_last_month_dates_in_utc() -> tuple[str, str]:\n",
    "    current_time = datetime.now(pytz.timezone(\"America/Vancouver\"))\n",
    "    last_month = current_time - relativedelta(months=1)\n",
    "    from_date = last_month.replace(day=1)\n",
    "    from_date = get_utc_timezone_adjusted_date(from_date)\n",
    "    to_date = (last_month.replace(day=1) + relativedelta(months=1))\n",
    "    to_date = get_utc_timezone_adjusted_date(to_date)\n",
    "    return from_date, to_date\n",
    "\n",
    "\n",
    "from_date, to_date = get_first_last_month_dates_in_utc()\n",
    "print(f\"Using from_date: {from_date} and to_date: {to_date}\")"
   ]
  },
  {
   "cell_type": "markdown",
   "metadata": {},
   "source": [
    "Query ..."
   ]
  },
  {
   "cell_type": "code",
   "execution_count": null,
   "metadata": {
    "editable": true,
    "slideshow": {
     "slide_type": ""
    },
    "tags": []
   },
   "outputs": [],
   "source": [
    "%%sql monthly_reconciliation_summary  <<\n",
    "SELECT\n",
    "    i.id as transaction_id,\n",
    "    (created_on AT TIME ZONE 'UTC' AT TIME ZONE 'America/Vancouver')::date AS created_date_pacific,\n",
    "    created_name,\n",
    "    pa.auth_account_id as account_number,\n",
    "    pa.name as account_name,\n",
    "    total * CASE WHEN invoice_status_code = 'CANCELLED' THEN 0 ELSE 1 END as total,\n",
    "    service_fees,\n",
    "    total - service_fees as subtotal,\n",
    "    payment_method_code,\n",
    "    corp_type_code,\n",
    "    payment_date,\n",
    "    refund_date,\n",
    "    invoice_status_code,\n",
    "    folio_number,\n",
    "    (select string_agg(quantity || 'x - ' || filing_type_code || ' - ' || description || ' - $' || pli.total, ',') from payment_line_items pli JOIN fee_schedules fs on fs.fee_schedule_id = pli.fee_schedule_id where invoice_id = i.id) as payment_line_items\n",
    "FROM\n",
    "    invoices i\n",
    "LEFT JOIN\n",
    "    payment_accounts pa ON i.payment_account_id = pa.id\n",
    "WHERE\n",
    "    corp_type_code = :partner_code\n",
    "    AND total > 0\n",
    "    AND invoice_status_code in ('PAID', 'CREDITED', 'REFUNDED', 'CANCELLED', 'REFUND_REQUESTED')\n",
    "    AND payment_method_code in ('PAD','EJV', 'EFT', 'DIRECT_PAY', 'ONLINE_BANKING') \n",
    "    AND ((created_on >= :from_date and created_on <= :to_date) \n",
    "         OR (refund_date >= :from_date and refund_date <= :to_date))\n",
    "ORDER BY\n",
    "    1;"
   ]
  },
  {
   "cell_type": "markdown",
   "metadata": {},
   "source": [
    "Save to CSV"
   ]
  },
  {
   "cell_type": "code",
   "execution_count": null,
   "metadata": {
    "editable": true,
    "slideshow": {
     "slide_type": ""
    },
    "tags": []
   },
   "outputs": [],
   "source": [
    "filename_summary = (\n",
    "    os.path.join(os.getcwd(), r\"data/\")\n",
    "    + partner_code\n",
    "    + \"_monthly_reconciliation_summary_\"\n",
    "    + datetime.strftime(datetime.now() - timedelta(1), \"%Y-%m\")\n",
    "    + \".csv\"\n",
    ")\n",
    "df_summary = monthly_reconciliation_summary.DataFrame()\n",
    "with open(filename_summary, \"w\") as f:\n",
    "    f.write(\"Monthly Reconciliation Summary:\\n\\n\")\n",
    "    if df_summary.empty:\n",
    "        f.write(\"No Data Retrieved\")\n",
    "    else:\n",
    "        df_summary.to_csv(f, sep=\",\", encoding=\"utf-8\", index=False)"
   ]
  },
  {
   "cell_type": "markdown",
   "metadata": {},
   "source": [
    "disbursement summary"
   ]
  },
  {
   "cell_type": "code",
   "execution_count": null,
   "metadata": {
    "editable": true,
    "slideshow": {
     "slide_type": ""
    },
    "tags": []
   },
   "outputs": [],
   "source": [
    "# Define the partner codes for which the disbursement summary should be executed\n",
    "partners_for_disbursement_summary = Config.PARTNER_CODES_DISBURSEMENT.split(\",\")\n",
    "\n",
    "print(f\"Processing for partner_code: {partner_code}\")\n",
    "print(f\"Partners for disbursement summary: {partners_for_disbursement_summary}\")\n",
    "\n",
    "# Only date part, no time saved for this field, also I believe this is pacific, it comes straight\n",
    "# from the feedback files.\n",
    "from_date = from_date.split(' ')[0] \n",
    "to_date = to_date.split(' ')[0]\n",
    "print(f'Using from_date: {from_date} and to_date: {to_date}')\n",
    "if partner_code in partners_for_disbursement_summary:\n",
    "    print(f\"Partner code {partner_code} found in the list, executing SQL query.\")\n",
    "    query = f\"\"\"\n",
    "    SELECT \n",
    "        i.id as transaction_id,\n",
    "        (created_on AT TIME ZONE 'UTC' AT TIME ZONE 'America/Vancouver')::date AS created_date_pacific,\n",
    "        created_name,\n",
    "        pa.auth_account_id as account_number,\n",
    "        pa.name as account_name,\n",
    "        total,\n",
    "        service_fees,\n",
    "        total - service_fees as disbursed_amount,\n",
    "        payment_method_code,\n",
    "        corp_type_code,\n",
    "        payment_date,\n",
    "        refund_date,\n",
    "        invoice_status_code,\n",
    "        folio_number,\n",
    "        disbursement_date::date as disbursement_date_pacific,\n",
    "        disbursement_reversal_date::date disbursement_reversal_date_pacific,\n",
    "        disbursement_status_code,\n",
    "        (select string_agg(quantity || 'x - ' || filing_type_code || ' - ' || description || ' - $' || pli.total , ',') from payment_line_items pli join fee_schedules fs on fs.fee_schedule_id = pli.fee_schedule_id where invoice_id = i.id) as payment_line_items\n",
    "    FROM \n",
    "        invoices i\n",
    "    LEFT JOIN\n",
    "        payment_accounts pa ON i.payment_account_id = pa.id\n",
    "    WHERE corp_type_code = :partner_code\n",
    "    AND invoice_status_code in ('PAID', 'CREDITED', 'REFUNDED')\n",
    "    AND payment_method_code in ('PAD','EJV', 'EFT', 'DIRECT_PAY', 'ONLINE_BANKING')\n",
    "    AND ((disbursement_date >= :from_date AND disbursement_date <= :to_date)\n",
    "        OR (disbursement_reversal_date >= :from_date AND disbursement_reversal_date <= :to_date))\n",
    "    order by 1;\n",
    "    \"\"\"\n",
    "\n",
    "    display(Markdown(f\"## Running query for partner: {partner_code}\"))\n",
    "    results = get_ipython().run_cell_magic('sql', '', query)\n",
    "    monthly_reconciliation_disbursed = results.DataFrame()  # Convert the results to a DataFrame for later use\n",
    "else:\n",
    "    print(f\"Partner code {partner_code} not in the list, skipping SQL query.\")\n",
    "    monthly_reconciliation_disbursed = None"
   ]
  },
  {
   "cell_type": "markdown",
   "metadata": {},
   "source": [
    "Save to another CSV"
   ]
  },
  {
   "cell_type": "code",
   "execution_count": null,
   "metadata": {
    "editable": true,
    "slideshow": {
     "slide_type": ""
    },
    "tags": []
   },
   "outputs": [],
   "source": [
    "if partner_code in partners_for_disbursement_summary:\n",
    "    filename_disbursed = os.path.join(\n",
    "        os.getcwd(),\n",
    "        \"data\",\n",
    "        f\"{partner_code}_monthly_reconciliation_disbursed_\"\n",
    "        + datetime.strftime(datetime.now() - timedelta(1), \"%Y-%m\")\n",
    "        + \".csv\",\n",
    "    )\n",
    "    print(f\"Saving CSV for partner_code: {partner_code} at {filename_disbursed}\")\n",
    "    with open(filename_disbursed, \"w\") as f:\n",
    "        f.write(\"Monthly Reconciliation Disbursed:\\n\\n\")\n",
    "        if monthly_reconciliation_disbursed is None or monthly_reconciliation_disbursed.empty:\n",
    "            f.write(\"No Data Retrieved\")\n",
    "        else:\n",
    "            monthly_reconciliation_disbursed.to_csv(f, sep=\",\", encoding=\"utf-8\", index=False)"
   ]
  },
  {
   "cell_type": "markdown",
   "metadata": {},
   "source": [
    "Authenticate"
   ]
  },
  {
   "cell_type": "code",
   "execution_count": null,
   "metadata": {},
   "outputs": [],
   "source": [
    "payload = \"grant_type=client_credentials\"\n",
    "basic_hash = base64.b64encode(f\"{Config.NOTEBOOK_SERVICE_ACCOUNT_ID}:{Config.NOTEBOOK_SERVICE_ACCOUNT_SECRET}\".encode())\n",
    "\n",
    "headers = {\"Content-Type\": \"application/x-www-form-urlencoded\", \"Authorization\": f\"Basic {basic_hash.decode()}\"}\n",
    "response = requests.request(\n",
    "    \"POST\", f\"{Config.JWT_OIDC_ISSUER}/protocol/openid-connect/token\", headers=headers, data=payload\n",
    ")\n",
    "\n",
    "assert response.status_code == 200\n",
    "notebook_service_account_token = response.json().get(\"access_token\")"
   ]
  },
  {
   "cell_type": "code",
   "execution_count": null,
   "metadata": {},
   "outputs": [],
   "source": [
    "\n",
    "partner_details = {\n",
    "    \"CSO\": {\n",
    "        \"companyName\": \"Ministry of Justice\",\n",
    "        \"addressLine1\": \"PO Box 9249, Stn Prov Govt\",\n",
    "        \"addressLine2\": \"6th Floor, 850 Burdett Avenue\",\n",
    "        \"city\": \"VICTORIA\",\n",
    "        \"province\": \"BC\",\n",
    "        \"areaCode\": \"V8W 9J2\"\n",
    "    },\n",
    "    \"VS\": {\n",
    "        \"companyName\": \"Vital Statistics Agency\",\n",
    "        \"addressLine1\": \"PO Box 9657, Stn Prov Govt\",\n",
    "        \"addressLine2\": \"\",\n",
    "        \"city\": \"VICTORIA\",\n",
    "        \"province\": \"BC\",\n",
    "        \"areaCode\": \"V8W 9P3\"\n",
    "    },\n",
    "    \"RPT\": {\n",
    "        \"companyName\": \"Property Taxation Branch\",\n",
    "        \"addressLine1\": \"Ministry of Provincial Revenue\",\n",
    "        \"addressLine2\": \"4th Floor, 1802 Douglas Street\",\n",
    "        \"city\": \"VICTORIA\",\n",
    "        \"province\": \"BC\",\n",
    "        \"areaCode\": \"V8T 4K6\"\n",
    "    },\n",
    "    \"ESRA\": {\n",
    "        \"companyName\": \"Site Remediation Program, Authorizations and Remediation Branch\",\n",
    "        \"addressLine1\": \"Ministry of Environment and Parks\",\n",
    "        \"addressLine2\": \"525 Superior Street, 3rd floor\",\n",
    "        \"city\": \"VICTORIA\",\n",
    "        \"province\": \"BC\",\n",
    "        \"areaCode\": \"V8V 0C5\"\n",
    "    },\n",
    "    \"STRR\": {\n",
    "        \"companyName\": \"Ministry of Housing and Municipal Affairs\",\n",
    "        \"addressLine1\": \"PO BOX 9844, STN PROV GOVT\",\n",
    "        \"addressLine2\": \"4th Floor, 614 Humboldt Street\",\n",
    "        \"city\": \"VICTORIA\",\n",
    "        \"province\": \"BC\",\n",
    "        \"areaCode\": \"V8W 1A4\"\n",
    "    }\n",
    "}\n",
    "\n",
    "def generate_report(partner_code):\n",
    "    API_BASE_URL = Config.REPORT_API_URL + '/reports'\n",
    "    if not Config.REPORT_API_URL:\n",
    "        raise ValueError(\"The REPORT_API_URL environment variable is not set or is empty\")\n",
    "\n",
    "    url = API_BASE_URL\n",
    "    headers = {\n",
    "        'Authorization': f'Bearer {notebook_service_account_token}',\n",
    "        'Content-Type': 'application/json',\n",
    "        'Accept': 'application/pdf'\n",
    "    }\n",
    "\n",
    "    revenue_query = \"\"\"\n",
    "        SELECT\n",
    "            COUNT(*) AS transaction_count,\n",
    "            SUM(total) AS total_revenue,\n",
    "            TO_CHAR(:from_date ::TIMESTAMP, 'Month') as month,\n",
    "            corp_type_code as registry\n",
    "        FROM\n",
    "            invoices\n",
    "        WHERE\n",
    "            corp_type_code = :partner_code\n",
    "            AND invoice_status_code = 'PAID'\n",
    "            AND payment_method_code IN ('PAD', 'EJV', 'EFT', 'DIRECT_PAY', 'ONLINE_BANKING')\n",
    "            AND (created_on >= :from_date AND created_on <= :to_date)\n",
    "        GROUP BY\n",
    "            corp_type_code\n",
    "    \"\"\"\n",
    "    result = get_ipython().run_cell_magic('sql', '', revenue_query)\n",
    "    disbursed_query = \"\"\"\n",
    "        SELECT\n",
    "            SUM(total-service_fees) as disbursement,\n",
    "            TO_CHAR(:from_date ::TIMESTAMP, 'Month') as month,\n",
    "            corp_type_code as registry\n",
    "        FROM\n",
    "            invoices\n",
    "        WHERE\n",
    "            corp_type_code = :partner_code\n",
    "            AND payment_method_code in ('PAD','EJV','EFT','DIRECT_PAY', 'ONLINE_BANKING')\n",
    "            AND (disbursement_date >= :from_date AND disbursement_date <= :to_date)\n",
    "            AND disbursement_status_code = 'COMPLETED'\n",
    "        GROUP BY\n",
    "            corp_type_code\n",
    "    \"\"\"\n",
    "    result_disbursed = get_ipython().run_cell_magic('sql', '', disbursed_query)\n",
    "    table_rows = [\n",
    "        {\n",
    "            'registry': partner_code,\n",
    "            'transactionCounts': 0,\n",
    "            'totalPayment': 0,\n",
    "            'totalDisbursement': 0,\n",
    "            'month': datetime.strptime(from_date, \"%Y-%m-%d\").strftime(\"%B\")\n",
    "        }\n",
    "    ]\n",
    "    if result:\n",
    "        df = result.DataFrame()\n",
    "        df_disbursed = result_disbursed.DataFrame()\n",
    "        format_currency = lambda x: f\"$ {x:,.2f}\"\n",
    "        format_number = lambda x: f\"{x:,.0f}\"\n",
    "        df = df.assign(\n",
    "            totalPayment=df.get('total_revenue', 0).map(format_currency),\n",
    "            transactionCounts=df.get('transaction_count', 0).map(format_number),\n",
    "            totalDisbursement=0,\n",
    "        )\n",
    "        if not df_disbursed.empty:\n",
    "            df = df.assign(totalDisbursement=df_disbursed.get('disbursement', 0).map(format_currency))\n",
    "        table_rows = df.to_dict(orient='records')\n",
    "\n",
    "    current_date = datetime.now(tz=timezone.utc).strftime(\"%B %d, %Y\")\n",
    "\n",
    "    details = partner_details.get(partner_code, {})\n",
    "    if not details:\n",
    "        raise ValueError(f\"No details found for partner code: {partner_code}\")\n",
    "\n",
    "    # Define the request body\n",
    "    data = {\n",
    "        \"templateVars\": {\n",
    "            \"date\": current_date,\n",
    "            \"companyName\": details[\"companyName\"],\n",
    "            \"addressLine1\": details[\"addressLine1\"],\n",
    "            \"addressLine2\": details[\"addressLine2\"],\n",
    "            \"city\": details[\"city\"],\n",
    "            \"province\": details[\"province\"],\n",
    "            \"areaCode\": details[\"areaCode\"],\n",
    "            \"firstName\": partner_code,\n",
    "            \"enterMonth\": table_rows[0]['month'],\n",
    "            \"tableRows\": table_rows\n",
    "        },\n",
    "        \"templateName\": \"revenue_letter\",\n",
    "        \"reportName\": \"revenue_letter\"\n",
    "    }\n",
    "\n",
    "    response = requests.post(url, headers=headers, json=data)\n",
    "\n",
    "    if response.status_code == 200:\n",
    "        pdf_content = response.content\n",
    "\n",
    "        pdf_filename = os.path.join(os.getcwd(), 'data', f'{partner_code}_revenue_letter.pdf')\n",
    "        with open(pdf_filename, 'wb') as pdf_file:\n",
    "            pdf_file.write(pdf_content)\n",
    "\n",
    "        print(\"PDF report saved successfully as 'payment_receipt.pdf'\")\n",
    "    else:\n",
    "        print('Failed to get the report:', response.text)\n",
    "generate_report(partner_code)"
   ]
  }
 ],
 "metadata": {
  "celltoolbar": "Tags",
  "kernelspec": {
   "display_name": "notebook-report-cQwRR_n3-py3.12",
   "language": "python",
   "name": "python3"
  },
  "language_info": {
   "codemirror_mode": {
    "name": "ipython",
    "version": 3
   },
   "file_extension": ".py",
   "mimetype": "text/x-python",
   "name": "python",
   "nbconvert_exporter": "python",
   "pygments_lexer": "ipython3",
   "version": "3.12.2"
  },
  "pycharm": {
   "stem_cell": {
    "cell_type": "raw",
    "metadata": {
     "collapsed": false
    },
    "source": []
   }
  }
 },
 "nbformat": 4,
 "nbformat_minor": 4
}
